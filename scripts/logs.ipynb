{
 "cells": [
  {
   "cell_type": "code",
   "execution_count": 70,
   "metadata": {},
   "outputs": [],
   "source": [
    "import csv\n",
    "import numpy as np\n",
    "from os import listdir\n",
    "import rosbag\n",
    "import matplotlib.pyplot as plt\n",
    "import copy"
   ]
  },
  {
   "cell_type": "code",
   "execution_count": 2,
   "metadata": {},
   "outputs": [
    {
     "data": {
      "text/plain": [
       "25"
      ]
     },
     "execution_count": 2,
     "metadata": {},
     "output_type": "execute_result"
    }
   ],
   "source": [
    "food = {\"grasshopper\":[\"wheat\"],\"butterfly\":[\"flower\"],\"fly\":[\"apple\"],\n",
    "        \"bird\":[\"dragonfly\",\"fly\",\"wheat\",\"grasshopper\",\"apple\"],\n",
    "        \"dragonfly\":[\"butterfly\",\"fly\"],\n",
    "        \"frog\":[\"grasshopper\",\"butterfly\",\"dragonfly\",\"fly\"],\n",
    "        \"eagle\":[\"snake\",\"mouse\",\"frog\",\"bird\"], \n",
    "        \"mouse\":[\"wheat\", \"apple\"],\n",
    "        \"wolf\":[\"mouse\",\"bird\"],\n",
    "        \"snake\":[\"mouse\",\"frog\",\"bird\"]}\n",
    "total_good = 0\n",
    "for key, value in food.iteritems():\n",
    "    total_good += len(value)\n",
    "total_good"
   ]
  },
  {
   "cell_type": "code",
   "execution_count": 3,
   "metadata": {},
   "outputs": [],
   "source": [
    "def analyse_file(path):\n",
    "    with open(path, \"rb\") as f:\n",
    "        reader = csv.reader(f)\n",
    "        times_q = np.zeros(3)\n",
    "        times_r = np.zeros(4)\n",
    "        points = np.zeros(4)\n",
    "        good = np.zeros(3)\n",
    "        bad = np.zeros(3)\n",
    "        for r in reader:\n",
    "            if r[0] == \"demo\":\n",
    "                try:\n",
    "                    gender = r[1]\n",
    "                except:\n",
    "                    print \"no gender provided\"\n",
    "                age = r[2]\n",
    "            if r[0] == \"Round1\":\n",
    "                times_r[0] =r[1]\n",
    "                points[0] = r[2]\n",
    "            if r[0] == \"Round2\":\n",
    "                times_r[1] =r[1]\n",
    "                points[1] = r[2]\n",
    "            if r[0] == \"Round3\":\n",
    "                times_r[2] =r[1]\n",
    "                points[2] = r[2]\n",
    "            if r[0] == \"Round4\":\n",
    "                times_r[3] =r[1]\n",
    "                points[3] = r[2]\n",
    "            if r[0] == \"pretest-time\":\n",
    "                times_q[0] = int(r[2])-int(r[1])\n",
    "            if r[0] == \"midtest-time\":\n",
    "                times_q[1] = int(r[2])-int(r[1])\n",
    "            if r[0] == \"posttest-time\":\n",
    "                times_q[2] = int(r[2])-int(r[1])\n",
    "            if r[0] == \"pretest\":\n",
    "                if r[2] in food[r[1]]:\n",
    "                    good[0]+=1\n",
    "                else:\n",
    "                    bad[0]+=1\n",
    "            if r[0] == \"midtest\":\n",
    "                if r[2] in food[r[1]]:\n",
    "                    good[1]+=1\n",
    "                else:\n",
    "                    bad[1]+=1\n",
    "            if r[0] == \"posttest\":\n",
    "                if r[2] in food[r[1]]:\n",
    "                    good[2]+=1\n",
    "                else:\n",
    "                    bad[2]+=1\n",
    "    return times_q, times_r, points, good, bad\n",
    "        "
   ]
  },
  {
   "cell_type": "code",
   "execution_count": 4,
   "metadata": {},
   "outputs": [],
   "source": [
    "def analyse_bag(path):\n",
    "    bag = rosbag.Bag(path)\n",
    "    i=-1\n",
    "    counter_eat = np.zeros(4)\n",
    "    counter_fail = np.zeros(4)\n",
    "    for topic, msg, t in bag.read_messages(topics=['/sandtray/interaction_events']):\n",
    "        s = msg.data\n",
    "        if i>-1 and s.startswith(\"animaleats\"):\n",
    "            counter_eat[i]+=1\n",
    "        if i>-1 and s.startswith(\"fail\"):\n",
    "            counter_fail[i]+=1\n",
    "        if s.startswith(\"start\"):\n",
    "            i+=1\n",
    "    return counter_eat, counter_fail"
   ]
  },
  {
   "cell_type": "code",
   "execution_count": 12,
   "metadata": {},
   "outputs": [],
   "source": [
    "def analyse_folder(condition):\n",
    "    filenames = listdir(\"../logs/\"+condition)\n",
    "    bag_filenames = listdir(\"../bags/\"+condition)\n",
    "    filenames.sort()\n",
    "    n=len(filenames)\n",
    "    times_q = np.zeros((n,3))\n",
    "    times_r = np.zeros((n,4))\n",
    "    points = np.zeros((n,4))\n",
    "    eating = np.zeros((n,4))\n",
    "    failing = np.zeros((n,4))\n",
    "    good = np.zeros((n,3))\n",
    "    bad = np.zeros((n,3))\n",
    "    for i,f in enumerate(filenames):\n",
    "        times_q[i], times_r[i], points[i], good[i], bad[i] = analyse_file(\"../logs/\"+condition+\"/\"+f)\n",
    "        eating[i],failing[i] = analyse_bag(\"../bags/\"+condition+\"/\"+f.replace(\"csv\",\"bag\"))\n",
    "        \n",
    "    return times_q, times_r, points, good, bad, eating, failing"
   ]
  },
  {
   "cell_type": "code",
   "execution_count": 18,
   "metadata": {},
   "outputs": [],
   "source": [
    "def print_results(tq, tr, p, g, b, e, f):\n",
    "    print \"Good\"\n",
    "    print g\n",
    "    print \"Bad\"\n",
    "    print b\n",
    "    print \"Time answering\"\n",
    "    print tq/60000.\n",
    "    print \"Time playing\"\n",
    "    print tr/60000.\n",
    "    print \"Points\"\n",
    "    print p\n",
    "    print \"Eating\"\n",
    "    print e\n",
    "    print \"Failing\"\n",
    "    print f"
   ]
  },
  {
   "cell_type": "code",
   "execution_count": 59,
   "metadata": {},
   "outputs": [
    {
     "name": "stdout",
     "output_type": "stream",
     "text": [
      "Results:\n",
      "Condition passive robot:\n",
      "Good\n",
      "[[ 3.  6.  5.]\n",
      " [ 3.  4.  4.]\n",
      " [ 3.  4.  6.]\n",
      " [ 2.  0.  0.]]\n",
      "Bad\n",
      "[[  2.   1.  10.]\n",
      " [  8.   6.   6.]\n",
      " [  3.   2.   1.]\n",
      " [  1.   0.   0.]]\n",
      "Time answering\n",
      "[[ 5.81326667  1.20405     1.20415   ]\n",
      " [ 5.91041667  2.19371667  1.86488333]\n",
      " [ 5.6441      1.99015     1.54568333]\n",
      " [ 2.34488333  0.          0.        ]]\n",
      "Time playing\n",
      "[[ 2.25056667  1.90018333  0.81766667  0.66948333]\n",
      " [ 1.70006667  1.17091667  1.94391667  1.85078333]\n",
      " [ 2.1822      2.25051667  1.71715     1.65615   ]\n",
      " [ 1.58378333  0.          0.          0.        ]]\n",
      "Points\n",
      "[[ 932.5976875  865.753375   643.7281875  578.531    ]\n",
      " [ 686.35475    710.6580625  850.1949375  907.316625 ]\n",
      " [ 913.727375   969.8600625  917.644625   910.3093125]\n",
      " [ 725.5511875    0.           0.           0.       ]]\n",
      "Eating\n",
      "[[ 23.  18.  14.  21.]\n",
      " [  9.  10.  25.  27.]\n",
      " [ 23.  22.  28.  22.]\n",
      " [ 20.   0.   0.   0.]]\n",
      "Failing\n",
      "[[ 69.  49.  27.   3.]\n",
      " [ 27.  22.  24.  33.]\n",
      " [ 30.  31.  28.  10.]\n",
      " [ 34.   0.   0.   0.]]\n",
      "Condition sparc robot:\n",
      "Good\n",
      "[[ 8.  9.  9.]\n",
      " [ 4.  4.  3.]\n",
      " [ 4.  5.  8.]\n",
      " [ 4.  4.  5.]]\n",
      "Bad\n",
      "[[ 4.  3.  1.]\n",
      " [ 2.  2.  3.]\n",
      " [ 3.  2.  0.]\n",
      " [ 5.  0.  0.]]\n",
      "Time answering\n",
      "[[ 2.57986667  1.37343333  1.19333333]\n",
      " [ 2.73078333  1.19323333  1.32723333]\n",
      " [ 6.89678333  3.3863      1.33143333]\n",
      " [ 6.34415     1.74273333  1.04796667]]\n",
      "Time playing\n",
      "[[ 1.16661667  1.22608333  1.68943333  2.0469    ]\n",
      " [ 2.1967      1.52471667  1.43135     1.32558333]\n",
      " [ 1.9002      2.40003333  1.36436667  1.8503    ]\n",
      " [ 1.092       0.54721667  0.7671      0.83213333]]\n",
      "Points\n",
      "[[  806.9306875   815.1145      923.1838125  1030.125375 ]\n",
      " [ 1001.12175     904.3570625   849.5494375   855.6838125]\n",
      " [  719.0743125   858.47125     830.5980625   960.6040625]\n",
      " [  673.059125    571.1309375   611.510125    633.8931875]]\n",
      "Eating\n",
      "[[ 18.  22.  24.  38.]\n",
      " [ 23.  24.  19.  26.]\n",
      " [ 13.  20.  19.  24.]\n",
      " [ 16.  16.  19.  26.]]\n",
      "Failing\n",
      "[[ 29.  24.  34.  41.]\n",
      " [ 14.  10.  18.   2.]\n",
      " [ 31.  42.  28.  12.]\n",
      " [ 35.  10.  13.  13.]]\n"
     ]
    },
    {
     "data": {
      "text/plain": [
       "array([ 4., -2.,  7.,  6.])"
      ]
     },
     "execution_count": 59,
     "metadata": {},
     "output_type": "execute_result"
    }
   ],
   "source": [
    "print \"Results:\"\n",
    "print \"Condition passive robot:\"\n",
    "p_tq, p_tr, p_p, p_g, p_b, p_e, p_f = analyse_folder(\"condition-nosparc-normal\")\n",
    "print_results(p_tq, p_tr, p_p, p_g, p_b, p_e, p_f)\n",
    "print \"Condition sparc robot:\"\n",
    "s_tq, s_tr, s_p, s_g, s_b, s_e, s_f = analyse_folder(\"condition-sparc-normal\")\n",
    "print_results(s_tq, s_tr, s_p, s_g, s_b, s_e, s_f)\n",
    "p_p=p_g-p_b\n",
    "p_l=p_p[:,2]-p_p[:,0]\n",
    "p_l\n",
    "s_p=s_g-s_b\n",
    "s_l=s_p[:,2]-s_p[:,0]\n",
    "s_l\n"
   ]
  },
  {
   "cell_type": "markdown",
   "metadata": {},
   "source": [
    "# def plot(array):\n",
    "    p=plt.boxplot(a)\n",
    "    plt.show()\n",
    "    "
   ]
  },
  {
   "cell_type": "code",
   "execution_count": 58,
   "metadata": {},
   "outputs": [
    {
     "data": {
      "text/plain": [
       "array([-6.,  3.,  5., -1.])"
      ]
     },
     "execution_count": 58,
     "metadata": {},
     "output_type": "execute_result"
    }
   ],
   "source": [
    "p_p=p_g-p_b\n",
    "p_l=p_p[:,2]-p_p[:,0]\n",
    "p_l"
   ]
  },
  {
   "cell_type": "code",
   "execution_count": 39,
   "metadata": {},
   "outputs": [
    {
     "data": {
      "image/png": "[encoded data removed]",
      "text/plain": [
       "<matplotlib.figure.Figure at 0x7fd73be1ccd0>"
      ]
     },
     "metadata": {},
     "output_type": "display_data"
    }
   ],
   "source": [
    "p=plt.boxplot(p_g[1:3,:]-p_b[1:3,:])\n",
    "plt.show()"
   ]
  },
  {
   "cell_type": "code",
   "execution_count": 40,
   "metadata": {},
   "outputs": [
    {
     "data": {
      "image/png": "[encoded data removed]",
      "text/plain": [
       "<matplotlib.figure.Figure at 0x7fd73cd68950>"
      ]
     },
     "metadata": {},
     "output_type": "display_data"
    }
   ],
   "source": [
    "p=plt.boxplot(s_g-s_b)\n",
    "plt.show()"
   ]
  },
  {
   "cell_type": "code",
   "execution_count": 51,
   "metadata": {},
   "outputs": [
    {
     "data": {
      "image/png": "[encoded data removed]",
      "text/plain": [
       "<matplotlib.figure.Figure at 0x7fd73d39b150>"
      ]
     },
     "metadata": {},
     "output_type": "display_data"
    }
   ],
   "source": [
    "p=plt.boxplot(p_f[0:3,:])#-p_f[0:3,:])\n",
    "plt.show()"
   ]
  },
  {
   "cell_type": "code",
   "execution_count": 52,
   "metadata": {},
   "outputs": [
    {
     "data": {
      "image/png": "[encoded data removed]",
      "text/plain": [
       "<matplotlib.figure.Figure at 0x7fd73c273050>"
      ]
     },
     "metadata": {},
     "output_type": "display_data"
    }
   ],
   "source": [
    "p=plt.boxplot(s_f)#-s_f)\n",
    "plt.show()"
   ]
  },
  {
   "cell_type": "code",
   "execution_count": 66,
   "metadata": {},
   "outputs": [
    {
     "data": {
      "image/png": "[encoded data removed]",
      "text/plain": [
       "<matplotlib.figure.Figure at 0x7fd73c992790>"
      ]
     },
     "metadata": {},
     "output_type": "display_data"
    }
   ],
   "source": [
    "p=plt.boxplot([p_l[0:3],s_l])\n",
    "plt.show()"
   ]
  },
  {
   "cell_type": "code",
   "execution_count": 50,
   "metadata": {},
   "outputs": [],
   "source": [
    "#Learning:\n"
   ]
  },
  {
   "cell_type": "code",
   "execution_count": 147,
   "metadata": {},
   "outputs": [],
   "source": [
    "def analyse_supervisor_file(path):\n",
    "    with open(path, \"rb\") as f:\n",
    "        reader = csv.reader(f)\n",
    "        dictTemplate= {\"proposed\":[],\"autoexe\":[], \"doit\":[], \"cancel\":[], \"skip\":[], \"select\":[], \"remove\":[], \"press\":[], \"enforced\":[]}\n",
    "        dicts=[copy.deepcopy(dictTemplate),copy.deepcopy(dictTemplate),copy.deepcopy(dictTemplate),copy.deepcopy(dictTemplate)]\n",
    "        tStart=0\n",
    "        roundNumber = 0\n",
    "        proposed = False\n",
    "        act = None\n",
    "        pressed = False\n",
    "        \n",
    "        for r in reader:\n",
    "            if pressed:\n",
    "                if act == r[2]:\n",
    "                    dicts[roundNumber][\"enforced\"].append((int(r[0])-tStart)/1000.)\n",
    "                pressed = False\n",
    "            if proposed:\n",
    "                if r[1] == \"press\":\n",
    "                    pressed = True\n",
    "                proposed = False\n",
    "            if r[1] == \"proposed\":\n",
    "                proposed = True\n",
    "                act = r[2]\n",
    "            if r[1] == \"start\":\n",
    "                tStart=int(r[0])\n",
    "            elif r[1] == \"endround\":\n",
    "                roundNumber+=1\n",
    "            else:\n",
    "                if roundNumber < 4:\n",
    "                    dicts[roundNumber][r[1]].append((int(r[0])-tStart)/1000.)\n",
    "    return dicts        "
   ]
  },
  {
   "cell_type": "code",
   "execution_count": 148,
   "metadata": {},
   "outputs": [],
   "source": [
    "def analyse_supervisor():\n",
    "    filenames = listdir(\"../supervisor/condition-sparc-normal\")\n",
    "    filenames.sort()\n",
    "    n=len(filenames)\n",
    "    d=[]\n",
    "    for i,f in enumerate(filenames):\n",
    "        temp = analyse_supervisor_file(\"../supervisor/condition-sparc-normal/\"+f)\n",
    "        for t in temp:\n",
    "            d.append(t)\n",
    "    return d"
   ]
  },
  {
   "cell_type": "code",
   "execution_count": 149,
   "metadata": {},
   "outputs": [],
   "source": [
    "d = analyse_supervisor()"
   ]
  },
  {
   "cell_type": "code",
   "execution_count": 150,
   "metadata": {},
   "outputs": [],
   "source": [
    "ratio=[]\n",
    "for a in d:\n",
    "    ratio.append(float(len(a[\"autoexe\"])+len(a[\"enforced\"])+len(a[\"doit\"]))/len(a[\"proposed\"]))"
   ]
  },
  {
   "cell_type": "code",
   "execution_count": 133,
   "metadata": {},
   "outputs": [
    {
     "name": "stdout",
     "output_type": "stream",
     "text": [
      "[0.1, 0.3333333333333333, 0.19047619047619047, 0.5, 0.08333333333333333, 0.1875, 0.2631578947368421, 0.23529411764705882, 0.23809523809523808, 0.2857142857142857, 0.5333333333333333, 0.3181818181818182, 0.5833333333333334, 0.3333333333333333, 0.42857142857142855, 0.25]\n"
     ]
    }
   ],
   "source": [
    "print ratio"
   ]
  },
  {
   "cell_type": "code",
   "execution_count": 151,
   "metadata": {},
   "outputs": [
    {
     "data": {
      "image/png": "[encoded data removed]",
      "text/plain": [
       "<matplotlib.figure.Figure at 0x7fd73c869cd0>"
      ]
     },
     "metadata": {},
     "output_type": "display_data"
    }
   ],
   "source": [
    "p=plt.plot(ratio)\n",
    "plt.show()"
   ]
  },
  {
   "cell_type": "code",
   "execution_count": null,
   "metadata": {},
   "outputs": [],
   "source": []
  },
  {
   "cell_type": "code",
   "execution_count": null,
   "metadata": {},
   "outputs": [],
   "source": []
  }
 ],
 "metadata": {
  "kernelspec": {
   "display_name": "Python 2",
   "language": "python",
   "name": "python2"
  },
  "language_info": {
   "codemirror_mode": {
    "name": "ipython",
    "version": 2
   },
   "file_extension": ".py",
   "mimetype": "text/x-python",
   "name": "python",
   "nbconvert_exporter": "python",
   "pygments_lexer": "ipython2",
   "version": "2.7.12"
  }
 },
 "nbformat": 4,
 "nbformat_minor": 2
}
