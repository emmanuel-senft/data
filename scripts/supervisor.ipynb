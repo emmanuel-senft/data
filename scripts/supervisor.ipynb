{
 "cells": [
  {
   "cell_type": "code",
   "execution_count": 65,
   "metadata": {},
   "outputs": [],
   "source": [
    "import csv\n",
    "import numpy as np\n",
    "from os import listdir\n",
    "import copy"
   ]
  },
  {
   "cell_type": "code",
   "execution_count": 70,
   "metadata": {},
   "outputs": [],
   "source": [
    "def analyse_file(path):\n",
    "    with open(path, \"rb\") as f:\n",
    "        reader = csv.reader(f)\n",
    "        dictTemplate= {\"proposed\":[],\"autoexe\":[], \"doit\":[], \"cancel\":[], \"skip\":[], \"select\":[], \"remove\":[], \"press\":[]}\n",
    "        dicts=[copy.deepcopy(dictTemplate),copy.deepcopy(dictTemplate),copy.deepcopy(dictTemplate),copy.deepcopy(dictTemplate)]\n",
    "        tStart=0\n",
    "        roundNumber = 0\n",
    "        for r in reader:\n",
    "            if r[1] == \"start\":\n",
    "                tStart=int(r[0])\n",
    "            elif r[1] == \"endround\":\n",
    "                roundNumber+=1\n",
    "            else:\n",
    "                if roundNumber < 4:\n",
    "                    dicts[roundNumber][r[1]].append((int(r[0])-tStart)/1000.)\n",
    "    return dicts\n",
    "        "
   ]
  },
  {
   "cell_type": "code",
   "execution_count": 71,
   "metadata": {},
   "outputs": [],
   "source": [
    "path = \"../supervisor/condition-sparc-normal\"\n",
    "#filenames = listdir(path)\n",
    "#filenames.sort()\n",
    "#for i,f in enumerate(filenames):\n",
    "#    d = analyse_file(path+\"/\"+f)\n",
    "d=analyse_file(path+\"/2018-01-19T14:18:40.csv\")"
   ]
  },
  {
   "cell_type": "code",
   "execution_count": 72,
   "metadata": {},
   "outputs": [
    {
     "data": {
      "text/plain": [
       "{'autoexe': [23.857, 28.296, 35.433, 43.482, 64.892, 77.901, 82.768, 87.183],\n",
       " 'cancel': [7.379, 78.204, 83.155],\n",
       " 'doit': [],\n",
       " 'press': [19.189, 31.127, 38.259, 46.183, 70.675, 91.172],\n",
       " 'proposed': [5.507,\n",
       "  17.994,\n",
       "  21.848,\n",
       "  26.245,\n",
       "  30.542,\n",
       "  33.356,\n",
       "  37.773,\n",
       "  41.469,\n",
       "  45.858,\n",
       "  48.631,\n",
       "  62.788,\n",
       "  69.368,\n",
       "  69.873,\n",
       "  75.898,\n",
       "  80.765,\n",
       "  85.181,\n",
       "  85.749,\n",
       "  89.623],\n",
       " 'remove': [],\n",
       " 'select': [2.183,\n",
       "  10.664,\n",
       "  19.189,\n",
       "  31.127,\n",
       "  39.123,\n",
       "  46.183,\n",
       "  58.729,\n",
       "  67.544,\n",
       "  70.677,\n",
       "  74.509,\n",
       "  91.173],\n",
       " 'skip': [50.695]}"
      ]
     },
     "execution_count": 72,
     "metadata": {},
     "output_type": "execute_result"
    }
   ],
   "source": [
    "d[0]"
   ]
  },
  {
   "cell_type": "code",
   "execution_count": 19,
   "metadata": {},
   "outputs": [
    {
     "data": {
      "text/plain": [
       "array([[  3.,   3.,   2.],\n",
       "       [ 14.,   7.,   6.],\n",
       "       [  5.,  11.,  11.],\n",
       "       [  7.,   2.,   4.],\n",
       "       [  0.,   3.,   2.],\n",
       "       [  0.,   1.,   2.],\n",
       "       [  1.,   1.,   2.],\n",
       "       [  9.,   0.,   0.]])"
      ]
     },
     "execution_count": 19,
     "metadata": {},
     "output_type": "execute_result"
    }
   ],
   "source": [
    "bad"
   ]
  },
  {
   "cell_type": "code",
   "execution_count": 27,
   "metadata": {},
   "outputs": [
    {
     "data": {
      "text/plain": [
       "array([ 14961.,   5484.,  36668.])"
      ]
     },
     "execution_count": 27,
     "metadata": {},
     "output_type": "execute_result"
    }
   ],
   "source": [
    "times_q"
   ]
  },
  {
   "cell_type": "code",
   "execution_count": 28,
   "metadata": {},
   "outputs": [
    {
     "data": {
      "text/plain": [
       "array([ 32421.,  20382.,  20788.,  16079.])"
      ]
     },
     "execution_count": 28,
     "metadata": {},
     "output_type": "execute_result"
    }
   ],
   "source": [
    "times_r"
   ]
  },
  {
   "cell_type": "code",
   "execution_count": 29,
   "metadata": {},
   "outputs": [
    {
     "data": {
      "text/plain": [
       "array([ 572.80425  ,  519.56625  ,  509.3403125,  505.480625 ])"
      ]
     },
     "execution_count": 29,
     "metadata": {},
     "output_type": "execute_result"
    }
   ],
   "source": [
    "points"
   ]
  },
  {
   "cell_type": "code",
   "execution_count": 31,
   "metadata": {},
   "outputs": [
    {
     "data": {
      "text/plain": [
       "'12'"
      ]
     },
     "execution_count": 31,
     "metadata": {},
     "output_type": "execute_result"
    }
   ],
   "source": [
    "age"
   ]
  },
  {
   "cell_type": "code",
   "execution_count": 23,
   "metadata": {},
   "outputs": [
    {
     "data": {
      "text/plain": [
       "'female'"
      ]
     },
     "execution_count": 23,
     "metadata": {},
     "output_type": "execute_result"
    }
   ],
   "source": [
    "gender"
   ]
  },
  {
   "cell_type": "code",
   "execution_count": 32,
   "metadata": {},
   "outputs": [],
   "source": [
    "names = listdir(\"../analyse\")"
   ]
  },
  {
   "cell_type": "code",
   "execution_count": 33,
   "metadata": {},
   "outputs": [],
   "source": [
    "names.sort()"
   ]
  },
  {
   "cell_type": "code",
   "execution_count": 34,
   "metadata": {},
   "outputs": [
    {
     "data": {
      "text/plain": [
       "['2017-12-05T15:23:06 M.csv',\n",
       " '2017-12-15T16:46:14.bag',\n",
       " '2017-12-15T16:46:14.csv',\n",
       " '2017-12-19T13:29:11.bag',\n",
       " '2017-12-19T13:29:11.csv',\n",
       " '2017-12-19T13:48:45.bag',\n",
       " '2017-12-19T13:48:45.csv',\n",
       " '2017-12-20T15:53:18.csv',\n",
       " '2017-12-20T16:13:36.csv',\n",
       " '2017-12-20T17:32:19.bag',\n",
       " '2018-01-10T15:27:40.csv',\n",
       " '2018-01-10T16:46:31.csv',\n",
       " '2018-01-10T16:52:26.csv']"
      ]
     },
     "execution_count": 34,
     "metadata": {},
     "output_type": "execute_result"
    }
   ],
   "source": [
    "names"
   ]
  },
  {
   "cell_type": "code",
   "execution_count": 50,
   "metadata": {},
   "outputs": [],
   "source": []
  },
  {
   "cell_type": "code",
   "execution_count": 51,
   "metadata": {},
   "outputs": [
    {
     "data": {
      "text/plain": [
       "array([[ 0.,  0.,  0.],\n",
       "       [ 0.,  0.,  0.],\n",
       "       [ 0.,  0.,  0.],\n",
       "       [ 0.,  0.,  0.]])"
      ]
     },
     "execution_count": 51,
     "metadata": {},
     "output_type": "execute_result"
    }
   ],
   "source": []
  },
  {
   "cell_type": "code",
   "execution_count": null,
   "metadata": {},
   "outputs": [],
   "source": []
  }
 ],
 "metadata": {
  "kernelspec": {
   "display_name": "Python 2",
   "language": "python",
   "name": "python2"
  },
  "language_info": {
   "codemirror_mode": {
    "name": "ipython",
    "version": 2
   },
   "file_extension": ".py",
   "mimetype": "text/x-python",
   "name": "python",
   "nbconvert_exporter": "python",
   "pygments_lexer": "ipython2",
   "version": "2.7.12"
  }
 },
 "nbformat": 4,
 "nbformat_minor": 2
}
